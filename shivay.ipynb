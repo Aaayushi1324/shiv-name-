{
 "cells": [
  {
   "cell_type": "code",
   "execution_count": 1,
   "id": "ec2d3e6f",
   "metadata": {},
   "outputs": [
    {
     "name": "stdout",
     "output_type": "stream",
     "text": [
      "Requirement already satisfied: pygame in c:\\users\\ayush\\anaconda3\\lib\\site-packages (2.5.2)\n"
     ]
    },
    {
     "name": "stderr",
     "output_type": "stream",
     "text": [
      "WARNING: Ignoring invalid distribution -ygments (c:\\users\\ayush\\anaconda3\\lib\\site-packages)\n",
      "WARNING: Ignoring invalid distribution -ygments (c:\\users\\ayush\\anaconda3\\lib\\site-packages)\n",
      "WARNING: Ignoring invalid distribution -ygments (c:\\users\\ayush\\anaconda3\\lib\\site-packages)\n",
      "WARNING: Ignoring invalid distribution -ygments (c:\\users\\ayush\\anaconda3\\lib\\site-packages)\n",
      "WARNING: Ignoring invalid distribution -ygments (c:\\users\\ayush\\anaconda3\\lib\\site-packages)\n",
      "WARNING: Ignoring invalid distribution -ygments (c:\\users\\ayush\\anaconda3\\lib\\site-packages)\n"
     ]
    },
    {
     "name": "stdout",
     "output_type": "stream",
     "text": [
      "pygame 2.5.2 (SDL 2.28.3, Python 3.10.9)\n",
      "Hello from the pygame community. https://www.pygame.org/contribute.html\n"
     ]
    }
   ],
   "source": [
    "!pip3 install pygame\n",
    "\n",
    "from turtle import *\n",
    "import pygame\n",
    "\n",
    "# Initialize Pygame mixer\n",
    "pygame.mixer.init()\n",
    "\n",
    "# Load background music file\n",
    "pygame.mixer.music.load(\"C:\\devon_ke_dev_mahadev.mp3\")\n",
    "\n",
    "# Start playing the background music\n",
    "pygame.mixer.music.play(-1)  # -1 plays the music on loop\n",
    "\n",
    "title('Om namah sivay')\n",
    "bgcolor('black')\n",
    "pensize(5)\n",
    "pencolor(\"blue\")\n",
    "# draw 49 bar circle me Jai Shree Ram\n",
    "Ram_naam = [\"ॐ नमः शिवाय \",\"ॐ नमः शिवाय \",\"ॐ नमः शिवाय\" ,\n",
    "\"ॐ नमः शिवाय \",\"ॐ नमः शिवाय \",\"ॐ नमः शिवाय \",\"ॐ नमः शिवाय \",\n",
    "\"ॐ नमः शिवाय \",\"ॐ नमः शिवाय \",\"ॐ नमः शिवाय \",\"ॐ नमः शिवाय \",\n",
    "\"ॐ नमः शिवाय \",\"ॐ नमः शिवाय \",\"ॐ नमः शिवाय \",\"ॐ नमः शिवाय \",\n",
    "\"ॐ नमः शिवाय \",\"ॐ नमः शिवाय \",\"ॐ नमः शिवाय \",\"ॐ नमः शिवाय \",\n",
    "\"ॐ नमः शिवाय \",\"ॐ नमः शिवाय \",\"ॐ नमः शिवाय \",\"ॐ नमः शिवाय \",\n",
    "\"ॐ नमः शिवाय \",\"ॐ नमः शिवाय \",\"ॐ नमः शिवाय \",\"ॐ नमः शिवाय \",\n",
    "\"ॐ नमः शिवाय \",\"ॐ नमः शिवाय \",\"ॐ नमः शिवाय \",\"ॐ नमः शिवाय \",\n",
    "\"ॐ नमः शिवाय \",\"ॐ नमः शिवाय \",\"ॐ नमः शिवाय \",\"ॐ नमः शिवाय \",\n",
    "\"ॐ नमः शिवाय \",\"ॐ नमः शिवाय \",\"ॐ नमः शिवाय \",\"ॐ नमः शिवाय \",\n",
    "\"ॐ नमः शिवाय \",\"ॐ नमः शिवाय \",\"ॐ नमः शिवाय \",\"ॐ नमः शिवाय \",\n",
    "\"ॐ नमः शिवाय \",\"ॐ नमः शिवाय \",\"ॐ नमः शिवाय \",\"ॐ नमः शिवाय \",\n",
    "\"ॐ नमः शिवाय \",\"ॐ नमः शिवाय \",\"ॐ नमः शिवाय \",\"ॐ नमः शिवाय \",\n",
    "\"ॐ नमः शिवाय \",\"ॐ नमः शिवाय \",\"ॐ नमः शिवाय \",\"ॐ नमः शिवाय \",\n",
    "\"ॐ नमः शिवाय \",\"ॐ नमः शिवाय \"]\n",
    "# 360 angle ko set karna\n",
    "angle = 360/49\n",
    "penup()\n",
    "sety(-1)\n",
    "for i in range(50):\n",
    "    left(angle)\n",
    "    forward(260)\n",
    "    write(Ram_naam[i], align=\"right\",\n",
    "    font=('Arial',12,\"bold\"))\n",
    "    backward(260)\n",
    "\n",
    "# circle k bick me ram naam\n",
    "penup()    \n",
    "goto(-40,-20)\n",
    "pendown()\n",
    "write(\"|| शिव ही सत्य है ||\", font=(\"Arial\", 40,\n",
    "\"normal\"), align=\"center\")\n",
    "hideturtle()\n",
    "pygame.mixer.music.stop()\n",
    "done()"
   ]
  },
  {
   "cell_type": "code",
   "execution_count": null,
   "id": "43af4a05",
   "metadata": {},
   "outputs": [],
   "source": []
  }
 ],
 "metadata": {
  "kernelspec": {
   "display_name": "Python 3 (ipykernel)",
   "language": "python",
   "name": "python3"
  },
  "language_info": {
   "codemirror_mode": {
    "name": "ipython",
    "version": 3
   },
   "file_extension": ".py",
   "mimetype": "text/x-python",
   "name": "python",
   "nbconvert_exporter": "python",
   "pygments_lexer": "ipython3",
   "version": "3.10.9"
  }
 },
 "nbformat": 4,
 "nbformat_minor": 5
}
